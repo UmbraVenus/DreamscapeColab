{
  "nbformat": 4,
  "nbformat_minor": 0,
  "metadata": {
    "colab": {
      "name": "search.ipynb",
      "provenance": [],
      "collapsed_sections": [],
      "authorship_tag": "ABX9TyPj077vZho40Mgk4F6YJKJk",
      "include_colab_link": true
    },
    "kernelspec": {
      "name": "python3",
      "display_name": "Python 3"
    },
    "language_info": {
      "name": "python"
    }
  },
  "cells": [
    {
      "cell_type": "markdown",
      "metadata": {
        "id": "view-in-github",
        "colab_type": "text"
      },
      "source": [
        "<a href=\"https://colab.research.google.com/github/UmbraVenus/DreamscapeColab/blob/main/search.ipynb\" target=\"_parent\"><img src=\"https://colab.research.google.com/assets/colab-badge.svg\" alt=\"Open In Colab\"/></a>"
      ]
    },
    {
      "cell_type": "code",
      "metadata": {
        "colab": {
          "base_uri": "https://localhost:8080/"
        },
        "id": "5b04lB34dgsv",
        "outputId": "4911610b-ec9f-4bb8-ca90-4e3715846b2c"
      },
      "source": [
        "!pip install datascience"
      ],
      "execution_count": 1,
      "outputs": [
        {
          "output_type": "stream",
          "text": [
            "Requirement already satisfied: datascience in /usr/local/lib/python3.7/dist-packages (0.10.6)\n",
            "Collecting folium==0.2.1\n",
            "  Downloading folium-0.2.1.tar.gz (69 kB)\n",
            "\u001b[?25l\r\u001b[K     |████▊                           | 10 kB 23.9 MB/s eta 0:00:01\r\u001b[K     |█████████▍                      | 20 kB 28.3 MB/s eta 0:00:01\r\u001b[K     |██████████████                  | 30 kB 33.9 MB/s eta 0:00:01\r\u001b[K     |██████████████████▊             | 40 kB 23.4 MB/s eta 0:00:01\r\u001b[K     |███████████████████████▍        | 51 kB 22.4 MB/s eta 0:00:01\r\u001b[K     |████████████████████████████    | 61 kB 24.2 MB/s eta 0:00:01\r\u001b[K     |████████████████████████████████| 69 kB 5.2 MB/s \n",
            "\u001b[?25hRequirement already satisfied: coveralls==0.5 in /usr/local/lib/python3.7/dist-packages (from datascience) (0.5)\n",
            "Requirement already satisfied: coverage==3.7.1 in /usr/local/lib/python3.7/dist-packages (from datascience) (3.7.1)\n",
            "Requirement already satisfied: sphinx in /usr/local/lib/python3.7/dist-packages (from datascience) (1.8.5)\n",
            "Requirement already satisfied: setuptools in /usr/local/lib/python3.7/dist-packages (from datascience) (57.2.0)\n",
            "Requirement already satisfied: pytest in /usr/local/lib/python3.7/dist-packages (from datascience) (3.6.4)\n",
            "Requirement already satisfied: requests>=1.0.0 in /usr/local/lib/python3.7/dist-packages (from coveralls==0.5->datascience) (2.23.0)\n",
            "Requirement already satisfied: docopt>=0.6.1 in /usr/local/lib/python3.7/dist-packages (from coveralls==0.5->datascience) (0.6.2)\n",
            "Requirement already satisfied: PyYAML>=3.10 in /usr/local/lib/python3.7/dist-packages (from coveralls==0.5->datascience) (3.13)\n",
            "Requirement already satisfied: Jinja2 in /usr/local/lib/python3.7/dist-packages (from folium==0.2.1->datascience) (2.11.3)\n",
            "Requirement already satisfied: idna<3,>=2.5 in /usr/local/lib/python3.7/dist-packages (from requests>=1.0.0->coveralls==0.5->datascience) (2.10)\n",
            "Requirement already satisfied: urllib3!=1.25.0,!=1.25.1,<1.26,>=1.21.1 in /usr/local/lib/python3.7/dist-packages (from requests>=1.0.0->coveralls==0.5->datascience) (1.24.3)\n",
            "Requirement already satisfied: certifi>=2017.4.17 in /usr/local/lib/python3.7/dist-packages (from requests>=1.0.0->coveralls==0.5->datascience) (2021.5.30)\n",
            "Requirement already satisfied: chardet<4,>=3.0.2 in /usr/local/lib/python3.7/dist-packages (from requests>=1.0.0->coveralls==0.5->datascience) (3.0.4)\n",
            "Requirement already satisfied: MarkupSafe>=0.23 in /usr/local/lib/python3.7/dist-packages (from Jinja2->folium==0.2.1->datascience) (2.0.1)\n",
            "Requirement already satisfied: six>=1.10.0 in /usr/local/lib/python3.7/dist-packages (from pytest->datascience) (1.15.0)\n",
            "Requirement already satisfied: more-itertools>=4.0.0 in /usr/local/lib/python3.7/dist-packages (from pytest->datascience) (8.8.0)\n",
            "Requirement already satisfied: attrs>=17.4.0 in /usr/local/lib/python3.7/dist-packages (from pytest->datascience) (21.2.0)\n",
            "Requirement already satisfied: pluggy<0.8,>=0.5 in /usr/local/lib/python3.7/dist-packages (from pytest->datascience) (0.7.1)\n",
            "Requirement already satisfied: py>=1.5.0 in /usr/local/lib/python3.7/dist-packages (from pytest->datascience) (1.10.0)\n",
            "Requirement already satisfied: atomicwrites>=1.0 in /usr/local/lib/python3.7/dist-packages (from pytest->datascience) (1.4.0)\n",
            "Requirement already satisfied: babel!=2.0,>=1.3 in /usr/local/lib/python3.7/dist-packages (from sphinx->datascience) (2.9.1)\n",
            "Requirement already satisfied: imagesize in /usr/local/lib/python3.7/dist-packages (from sphinx->datascience) (1.2.0)\n",
            "Requirement already satisfied: Pygments>=2.0 in /usr/local/lib/python3.7/dist-packages (from sphinx->datascience) (2.6.1)\n",
            "Requirement already satisfied: docutils>=0.11 in /usr/local/lib/python3.7/dist-packages (from sphinx->datascience) (0.17.1)\n",
            "Requirement already satisfied: snowballstemmer>=1.1 in /usr/local/lib/python3.7/dist-packages (from sphinx->datascience) (2.1.0)\n",
            "Requirement already satisfied: sphinxcontrib-websupport in /usr/local/lib/python3.7/dist-packages (from sphinx->datascience) (1.2.4)\n",
            "Requirement already satisfied: packaging in /usr/local/lib/python3.7/dist-packages (from sphinx->datascience) (21.0)\n",
            "Requirement already satisfied: alabaster<0.8,>=0.7 in /usr/local/lib/python3.7/dist-packages (from sphinx->datascience) (0.7.12)\n",
            "Requirement already satisfied: pytz>=2015.7 in /usr/local/lib/python3.7/dist-packages (from babel!=2.0,>=1.3->sphinx->datascience) (2018.9)\n",
            "Requirement already satisfied: pyparsing>=2.0.2 in /usr/local/lib/python3.7/dist-packages (from packaging->sphinx->datascience) (2.4.7)\n",
            "Requirement already satisfied: sphinxcontrib-serializinghtml in /usr/local/lib/python3.7/dist-packages (from sphinxcontrib-websupport->sphinx->datascience) (1.1.5)\n",
            "Building wheels for collected packages: folium\n",
            "  Building wheel for folium (setup.py) ... \u001b[?25l\u001b[?25hdone\n",
            "  Created wheel for folium: filename=folium-0.2.1-py3-none-any.whl size=79808 sha256=18b5d3cdef9e0c31a7ad2abb5d383c3be61f82d46284bce54eed0d219a15e208\n",
            "  Stored in directory: /root/.cache/pip/wheels/9a/f0/3a/3f79a6914ff5affaf50cabad60c9f4d565283283c97f0bdccf\n",
            "Successfully built folium\n",
            "Installing collected packages: folium\n",
            "  Attempting uninstall: folium\n",
            "    Found existing installation: folium 0.8.3\n",
            "    Uninstalling folium-0.8.3:\n",
            "      Successfully uninstalled folium-0.8.3\n",
            "Successfully installed folium-0.2.1\n"
          ],
          "name": "stdout"
        }
      ]
    },
    {
      "cell_type": "code",
      "metadata": {
        "colab": {
          "base_uri": "https://localhost:8080/"
        },
        "id": "yc3Rr8S_j_wc",
        "outputId": "b51bd854-d601-4816-83ec-a8b2b23d0419"
      },
      "source": [
        "!pip install pillow"
      ],
      "execution_count": 31,
      "outputs": [
        {
          "output_type": "stream",
          "text": [
            "Requirement already satisfied: pillow in /usr/local/lib/python3.7/dist-packages (7.1.2)\n"
          ],
          "name": "stdout"
        }
      ]
    },
    {
      "cell_type": "code",
      "metadata": {
        "id": "i4_Hhgjwdj5w"
      },
      "source": [
        "from datascience import *\n",
        "import numpy as np\n",
        "import requests\n",
        "from urllib.request import urlretrieve\n",
        "import pandas as pd\n",
        "from PIL import Image\n",
        "import io"
      ],
      "execution_count": 37,
      "outputs": []
    },
    {
      "cell_type": "code",
      "metadata": {
        "colab": {
          "base_uri": "https://localhost:8080/"
        },
        "id": "Q0bXui0GdqjN",
        "outputId": "4386d679-8600-4230-a794-bba3143dcd80"
      },
      "source": [
        "url = 'https://github.com/UmbraVenus/archival/blob/a92ebf6b8be7050468a3bb473e6d1934a3d6ac40/archive/chicago.csv'\n",
        "dst = \"chicago.csv\"\n",
        "urlretrieve(url, dst)"
      ],
      "execution_count": 13,
      "outputs": [
        {
          "output_type": "execute_result",
          "data": {
            "text/plain": [
              "('chicago.csv', <http.client.HTTPMessage at 0x7f75f4dc8ad0>)"
            ]
          },
          "metadata": {
            "tags": []
          },
          "execution_count": 13
        }
      ]
    },
    {
      "cell_type": "code",
      "metadata": {
        "id": "mAuOKDGbe2y9"
      },
      "source": [
        "all = Table().read_table(\"chicago.csv\")"
      ],
      "execution_count": 23,
      "outputs": []
    },
    {
      "cell_type": "code",
      "metadata": {
        "colab": {
          "base_uri": "https://localhost:8080/",
          "height": 391
        },
        "id": "gJuAGT-TgT-E",
        "outputId": "bda52a56-629f-4f82-94de-f9a9f9d40f3a"
      },
      "source": [
        "all"
      ],
      "execution_count": 24,
      "outputs": [
        {
          "output_type": "execute_result",
          "data": {
            "text/html": [
              "<table border=\"1\" class=\"dataframe\">\n",
              "    <thead>\n",
              "        <tr>\n",
              "            <th>Artist</th> <th>Department</th> <th>id</th> <th>No.</th> <th>Title</th>\n",
              "        </tr>\n",
              "    </thead>\n",
              "    <tbody>\n",
              "        <tr>\n",
              "            <td>Lawrence Carmichael Earle </td> <td>Prints and Drawings </td> <td>4   </td> <td>1880.1  </td> <td>Priest and Boy                                              </td>\n",
              "        </tr>\n",
              "        <tr>\n",
              "            <td>David Dalhoff Neal        </td> <td>Arts of the Americas</td> <td>9   </td> <td>1887.232</td> <td>Interior of St. Mark's, Venice                              </td>\n",
              "        </tr>\n",
              "        <tr>\n",
              "            <td>Walter Shirlaw            </td> <td>Arts of the Americas</td> <td>11  </td> <td>1887.234</td> <td>Self-Portrait                                               </td>\n",
              "        </tr>\n",
              "        <tr>\n",
              "            <td>Salvator Rosa             </td> <td>Prints and Drawings </td> <td>16  </td> <td>1887.249</td> <td>The Fall of the Giants                                      </td>\n",
              "        </tr>\n",
              "        <tr>\n",
              "            <td>Giovanni Battista Piranesi</td> <td>Prints and Drawings </td> <td>19  </td> <td>1887.252</td> <td>View of Ponte Lugano on the Anio, from Views of Rome        </td>\n",
              "        </tr>\n",
              "        <tr>\n",
              "            <td>Charles Meryon            </td> <td>Prints and Drawings </td> <td>20  </td> <td>1909.182</td> <td>It Rocks but is Not Sunk                                    </td>\n",
              "        </tr>\n",
              "        <tr>\n",
              "            <td>Giovanni Battista Piranesi</td> <td>Prints and Drawings </td> <td>22  </td> <td>1887.255</td> <td>Villa Pamphili outside Porta S. Pancrazio, from Views of ...</td>\n",
              "        </tr>\n",
              "        <tr>\n",
              "            <td>Luigi Rossini             </td> <td>Prints and Drawings </td> <td>23  </td> <td>1887.256</td> <td>The Arch of Septimus Severus                                </td>\n",
              "        </tr>\n",
              "        <tr>\n",
              "            <td>Robert Nanteuil           </td> <td>Prints and Drawings </td> <td>24  </td> <td>1887.265</td> <td>Portrait of Edouard Molé                                    </td>\n",
              "        </tr>\n",
              "        <tr>\n",
              "            <td>Lucas Emil Vorsterman     </td> <td>Prints and Drawings </td> <td>25  </td> <td>1887.266</td> <td>Jeronimo de Bran                                            </td>\n",
              "        </tr>\n",
              "    </tbody>\n",
              "</table>\n",
              "<p>... (120984 rows omitted)</p>"
            ],
            "text/plain": [
              "Artist                     | Department           | id   | No.      | Title\n",
              "Lawrence Carmichael Earle  | Prints and Drawings  | 4    | 1880.1   | Priest and Boy\n",
              "David Dalhoff Neal         | Arts of the Americas | 9    | 1887.232 | Interior of St. Mark's, Venice\n",
              "Walter Shirlaw             | Arts of the Americas | 11   | 1887.234 | Self-Portrait\n",
              "Salvator Rosa              | Prints and Drawings  | 16   | 1887.249 | The Fall of the Giants\n",
              "Giovanni Battista Piranesi | Prints and Drawings  | 19   | 1887.252 | View of Ponte Lugano on the Anio, from Views of Rome\n",
              "Charles Meryon             | Prints and Drawings  | 20   | 1909.182 | It Rocks but is Not Sunk\n",
              "Giovanni Battista Piranesi | Prints and Drawings  | 22   | 1887.255 | Villa Pamphili outside Porta S. Pancrazio, from Views of ...\n",
              "Luigi Rossini              | Prints and Drawings  | 23   | 1887.256 | The Arch of Septimus Severus\n",
              "Robert Nanteuil            | Prints and Drawings  | 24   | 1887.265 | Portrait of Edouard Molé\n",
              "Lucas Emil Vorsterman      | Prints and Drawings  | 25   | 1887.266 | Jeronimo de Bran\n",
              "... (120984 rows omitted)"
            ]
          },
          "metadata": {
            "tags": []
          },
          "execution_count": 24
        }
      ]
    },
    {
      "cell_type": "code",
      "metadata": {
        "id": "IYP2k84jhmzt"
      },
      "source": [
        "def search(word):\n",
        "  if all.where(\"Title\", are.containing(word)):\n",
        "    return all.where(\"Title\", are.containing(word)).take(0).column(\"id\").item(0)"
      ],
      "execution_count": 27,
      "outputs": []
    },
    {
      "cell_type": "code",
      "metadata": {
        "id": "vrM9LKxRiagn"
      },
      "source": [
        "id = search(\"Boy\")"
      ],
      "execution_count": 30,
      "outputs": []
    },
    {
      "cell_type": "code",
      "metadata": {
        "colab": {
          "base_uri": "https://localhost:8080/"
        },
        "id": "3i2NabYqicjC",
        "outputId": "2b669bef-4c7b-4bdd-a4e3-dfc5bf137b0f"
      },
      "source": [
        "def geturl(id):\n",
        "  url = 'https://api.artic.edu/api/v1/artworks/' + str(id)\n",
        "  response = requests.get(url, stream=True)\n",
        "  jr = response.json()\n",
        "  for key, item in jr.items():\n",
        "    print(key)\n",
        "    print(item)\n",
        "    print(\"-----\")\n",
        "\n",
        "geturl(id)"
      ],
      "execution_count": 66,
      "outputs": [
        {
          "output_type": "stream",
          "text": [
            "data\n",
            "{'id': 4, 'api_model': 'artworks', 'api_link': 'https://api.artic.edu/api/v1/artworks/4', 'is_boosted': False, 'title': 'Priest and Boy', 'alt_titles': None, 'thumbnail': {'lqip': 'data:image/gif;base64,R0lGODlhBAAFAPQAAF1aS2deUJSLdpGKeKuegaSgiqunjK+pkrivk763mr+6n7+5osa+osi/o83EqdDIr9PKr9vRutvTvOHYwwAAAAAAAAAAAAAAAAAAAAAAAAAAAAAAAAAAAAAAAAAAAAAAACH5BAAAAAAAIf4KQXBwbGVNYXJrCgAsAAAAAAQABQAABRHgI01RwzhQIhCIAQSDUhxLCAA7', 'width': 557, 'height': 768, 'alt_text': 'A work made of watercolor over graphite on cream wove paper.'}, 'main_reference_number': '1880.1', 'has_not_been_viewed_much': False, 'boost_rank': None, 'date_start': 1865, 'date_end': 1880, 'date_display': 'n.d.', 'date_qualifier_title': \"Artist's working dates\", 'date_qualifier_id': 15, 'artist_display': 'Lawrence Carmichael Earle\\nAmerican, 1845-1921', 'place_of_origin': 'United States', 'dimensions': '472 × 345 mm', 'medium_display': 'Watercolor over graphite on cream wove paper', 'inscriptions': None, 'credit_line': 'The Charles Deering Collection', 'publication_history': None, 'exhibition_history': None, 'provenance_text': None, 'publishing_verification_level': 'Web Basic', 'internal_department_id': 3, 'fiscal_year': None, 'fiscal_year_deaccession': None, 'is_public_domain': True, 'is_zoomable': True, 'max_zoom_window_size': -1, 'copyright_notice': None, 'has_multimedia_resources': False, 'has_educational_resources': False, 'colorfulness': 18.8599, 'color': {'h': 43, 'l': 49, 's': 16, 'percentage': 0.011841978998862765, 'population': 116}, 'latitude': None, 'longitude': None, 'latlon': None, 'is_on_view': False, 'on_loan_display': None, 'gallery_title': None, 'gallery_id': None, 'artwork_type_title': None, 'artwork_type_id': None, 'department_title': 'Prints and Drawings', 'department_id': 'PC-13', 'artist_id': 34348, 'artist_title': 'Lawrence Carmichael Earle', 'alt_artist_ids': [], 'artist_ids': [34348], 'artist_titles': ['Lawrence Carmichael Earle'], 'category_ids': ['PC-13'], 'category_titles': ['Prints and Drawings'], 'artwork_catalogue_ids': [], 'term_titles': ['drawings (visual works)', 'paper (fiber product)', 'watercolor', 'water-base paint', 'paint', 'graphite', 'prints and drawing'], 'style_id': None, 'style_title': None, 'alt_style_ids': [], 'style_ids': [], 'style_titles': [], 'classification_id': 'TM-5', 'classification_title': 'drawings (visual works)', 'alt_classification_ids': ['TM-4'], 'classification_ids': ['TM-5', 'TM-4'], 'classification_titles': ['drawings (visual works)', 'prints and drawing'], 'subject_id': None, 'alt_subject_ids': [], 'subject_ids': [], 'subject_titles': [], 'material_id': 'TM-2982', 'alt_material_ids': ['TM-2403', 'TM-3343', 'TM-2577', 'TM-2410'], 'material_ids': ['TM-2982', 'TM-2403', 'TM-3343', 'TM-2577', 'TM-2410'], 'material_titles': ['paper (fiber product)', 'watercolor', 'water-base paint', 'paint', 'graphite'], 'technique_id': None, 'alt_technique_ids': [], 'technique_ids': [], 'technique_titles': [], 'theme_titles': [], 'image_id': '1753b638-d4fb-8e45-3db9-92dde7f053da', 'alt_image_ids': [], 'document_ids': [], 'sound_ids': [], 'video_ids': [], 'text_ids': [], 'section_ids': [], 'section_titles': [], 'site_ids': [], 'suggest_autocomplete_all': [{'input': ['1880.1'], 'contexts': {'groupings': ['accession']}}, {'input': ['Priest and Boy'], 'weight': 1071916, 'contexts': {'groupings': ['title']}}], 'last_updated_source': '2021-05-03T18:44:46-05:00', 'last_updated': '2021-05-04T13:57:41-05:00', 'timestamp': '2021-07-21T19:35:13-05:00'}\n",
            "-----\n",
            "info\n",
            "{'license_text': 'The data in this response is licensed under a Creative Commons Zero (CC0) 1.0 designation and the Terms and Conditions of artic.edu.', 'license_links': ['https://creativecommons.org/publicdomain/zero/1.0/', 'https://www.artic.edu/terms'], 'version': '1.1'}\n",
            "-----\n",
            "config\n",
            "{'iiif_url': 'https://www.artic.edu/iiif/2', 'website_url': 'http://www.artic.edu'}\n",
            "-----\n"
          ],
          "name": "stdout"
        }
      ]
    },
    {
      "cell_type": "code",
      "metadata": {
        "id": "uYBtreDbkM3l"
      },
      "source": [
        ""
      ],
      "execution_count": null,
      "outputs": []
    }
  ]
}